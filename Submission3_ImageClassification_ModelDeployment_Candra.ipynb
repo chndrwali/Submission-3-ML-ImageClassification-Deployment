{
  "nbformat": 4,
  "nbformat_minor": 0,
  "metadata": {
    "colab": {
      "provenance": [],
      "gpuType": "T4"
    },
    "kernelspec": {
      "name": "python3",
      "display_name": "Python 3"
    },
    "language_info": {
      "name": "python"
    },
    "accelerator": "GPU"
  },
  "cells": [
    {
      "cell_type": "markdown",
      "source": [
        "**Mount Google Drive**"
      ],
      "metadata": {
        "id": "5QKKi8MJTeq7"
      }
    },
    {
      "cell_type": "code",
      "execution_count": 1,
      "metadata": {
        "id": "XLALUoATLH8y",
        "colab": {
          "base_uri": "https://localhost:8080/"
        },
        "outputId": "1f85ce0f-e5b6-427c-fc58-30c701ee9465"
      },
      "outputs": [
        {
          "output_type": "stream",
          "name": "stdout",
          "text": [
            "Mounted at /content/drive\n"
          ]
        }
      ],
      "source": [
        "from google.colab import drive\n",
        "drive.mount('/content/drive')"
      ]
    },
    {
      "cell_type": "markdown",
      "source": [
        "**Import**"
      ],
      "metadata": {
        "id": "EktQpa_MhA8m"
      }
    },
    {
      "cell_type": "code",
      "source": [
        "import shutil\n",
        "import os\n",
        "import zipfile\n",
        "import pathlib\n",
        "import numpy as np\n",
        "import tensorflow as tf\n",
        "from tensorflow.keras.preprocessing.image import ImageDataGenerator\n",
        "from tensorflow.keras.applications import ResNet152V2\n",
        "from tensorflow.keras.layers import Input, Dense, Flatten, Dropout, Conv2D, MaxPooling2D\n",
        "from tensorflow.keras.models import Sequential\n",
        "from tensorflow.keras.callbacks import EarlyStopping, Callback"
      ],
      "metadata": {
        "id": "FOyrc2BAhDoN"
      },
      "execution_count": 2,
      "outputs": []
    },
    {
      "cell_type": "markdown",
      "source": [
        "**Copy file zip ke Colab**"
      ],
      "metadata": {
        "id": "YXHDikARTdNx"
      }
    },
    {
      "cell_type": "code",
      "source": [
        "zip_file_path = '/content/drive/MyDrive/archive.zip'\n",
        "colab_zip_path = '/content/archive.zip'\n",
        "shutil.copy(zip_file_path, colab_zip_path)"
      ],
      "metadata": {
        "id": "CNG_6FqvTHij",
        "colab": {
          "base_uri": "https://localhost:8080/",
          "height": 35
        },
        "outputId": "5324f40f-fed2-47a8-be79-7e24e8d6fed3"
      },
      "execution_count": 3,
      "outputs": [
        {
          "output_type": "execute_result",
          "data": {
            "text/plain": [
              "'/content/archive.zip'"
            ],
            "application/vnd.google.colaboratory.intrinsic+json": {
              "type": "string"
            }
          },
          "metadata": {},
          "execution_count": 3
        }
      ]
    },
    {
      "cell_type": "markdown",
      "source": [
        "**Ekstraksi dataset**"
      ],
      "metadata": {
        "id": "N-AxOFwBUnFJ"
      }
    },
    {
      "cell_type": "code",
      "source": [
        "with zipfile.ZipFile(colab_zip_path, 'r') as zip_ref:\n",
        "    zip_ref.extractall('/content')"
      ],
      "metadata": {
        "id": "Eg2nwr5QUkfI"
      },
      "execution_count": 4,
      "outputs": []
    },
    {
      "cell_type": "code",
      "source": [
        "data_dir = '/content/garbage_classification'\n",
        "data_dir"
      ],
      "metadata": {
        "id": "b-EvScbxVkFB",
        "colab": {
          "base_uri": "https://localhost:8080/",
          "height": 35
        },
        "outputId": "3208b737-eac5-4d9d-f314-8ab23a457d1f"
      },
      "execution_count": 5,
      "outputs": [
        {
          "output_type": "execute_result",
          "data": {
            "text/plain": [
              "'/content/garbage_classification'"
            ],
            "application/vnd.google.colaboratory.intrinsic+json": {
              "type": "string"
            }
          },
          "metadata": {},
          "execution_count": 5
        }
      ]
    },
    {
      "cell_type": "markdown",
      "source": [
        "**Hitung dan tampilkan distribusi gambar sebelum penghapusan.**"
      ],
      "metadata": {
        "id": "E4vk_a4Th4Hc"
      }
    },
    {
      "cell_type": "code",
      "source": [
        "image_count = len(list(pathlib.Path(data_dir).glob('*/*.jpg')))\n",
        "print(f'Total images in the dataset before removal: {image_count}')\n",
        "\n",
        "print('\\nImage Distribution Before Removal:')\n",
        "for i, label in enumerate(os.listdir(data_dir)):\n",
        "    label_dir = os.path.join(data_dir, label)\n",
        "    len_label_dir = len(os.listdir(label_dir))\n",
        "    print(f'{i+1}. {label} : {len_label_dir}')"
      ],
      "metadata": {
        "id": "-ZfeyrA7WUHm",
        "colab": {
          "base_uri": "https://localhost:8080/"
        },
        "outputId": "242f851c-2d97-46a2-8a4d-4e38bb20e355"
      },
      "execution_count": 6,
      "outputs": [
        {
          "output_type": "stream",
          "name": "stdout",
          "text": [
            "Total images in the dataset before removal: 15515\n",
            "\n",
            "Image Distribution Before Removal:\n",
            "1. battery : 945\n",
            "2. metal : 769\n",
            "3. white-glass : 775\n",
            "4. green-glass : 629\n",
            "5. plastic : 865\n",
            "6. paper : 1050\n",
            "7. biological : 985\n",
            "8. clothes : 5325\n",
            "9. cardboard : 891\n",
            "10. shoes : 1977\n",
            "11. brown-glass : 607\n",
            "12. trash : 697\n"
          ]
        }
      ]
    },
    {
      "cell_type": "markdown",
      "source": [
        "**Function to remove labels**"
      ],
      "metadata": {
        "id": "cYI76fc9iSEC"
      }
    },
    {
      "cell_type": "code",
      "source": [
        "def remove_label(data_dir, label):\n",
        "    label_dir = os.path.join(data_dir, label)\n",
        "\n",
        "    if os.path.exists(label_dir):\n",
        "        shutil.rmtree(label_dir)\n",
        "        print(f\"Label '{label}' removed successfully.\")\n",
        "    else:\n",
        "        print(f\"Label '{label}' not found in the dataset.\")"
      ],
      "metadata": {
        "id": "sdq8qRQNXC--"
      },
      "execution_count": 7,
      "outputs": []
    },
    {
      "cell_type": "markdown",
      "source": [
        "**Hapus label yang tidak diperlukan**"
      ],
      "metadata": {
        "id": "748FSB7yihl0"
      }
    },
    {
      "cell_type": "code",
      "source": [
        "labels_to_remove = ['clothes', 'shoes', 'paper', 'battery', 'biological', 'cardboard']\n",
        "\n",
        "# Remove each label\n",
        "for label in labels_to_remove:\n",
        "    remove_label(data_dir, label)"
      ],
      "metadata": {
        "id": "NlSz9MfmXiPm",
        "colab": {
          "base_uri": "https://localhost:8080/"
        },
        "outputId": "f9cffe1f-6a2f-4047-9077-11dddca789f1"
      },
      "execution_count": 8,
      "outputs": [
        {
          "output_type": "stream",
          "name": "stdout",
          "text": [
            "Label 'clothes' removed successfully.\n",
            "Label 'shoes' removed successfully.\n",
            "Label 'paper' removed successfully.\n",
            "Label 'battery' removed successfully.\n",
            "Label 'biological' removed successfully.\n",
            "Label 'cardboard' removed successfully.\n"
          ]
        }
      ]
    },
    {
      "cell_type": "markdown",
      "source": [
        "**Count and display image distribution after removal**"
      ],
      "metadata": {
        "id": "0M5DnyEwiu5T"
      }
    },
    {
      "cell_type": "code",
      "source": [
        "image_count = len(list(pathlib.Path(data_dir).glob('*/*.jpg')))\n",
        "print(f'\\nTotal images in the dataset after removal: {image_count}')\n",
        "\n",
        "print('\\nImage Distribution After Removal:')\n",
        "for i, label in enumerate(os.listdir(data_dir)):\n",
        "    label_dir = os.path.join(data_dir, label)\n",
        "    len_label_dir = len(os.listdir(label_dir))\n",
        "    print(f'{i+1}. {label} : {len_label_dir}')"
      ],
      "metadata": {
        "id": "WK3PKv7aZKeT",
        "colab": {
          "base_uri": "https://localhost:8080/"
        },
        "outputId": "fd43f360-40eb-43b2-adae-ce71b7bb8494"
      },
      "execution_count": 9,
      "outputs": [
        {
          "output_type": "stream",
          "name": "stdout",
          "text": [
            "\n",
            "Total images in the dataset after removal: 4342\n",
            "\n",
            "Image Distribution After Removal:\n",
            "1. metal : 769\n",
            "2. white-glass : 775\n",
            "3. green-glass : 629\n",
            "4. plastic : 865\n",
            "5. brown-glass : 607\n",
            "6. trash : 697\n"
          ]
        }
      ]
    },
    {
      "cell_type": "markdown",
      "source": [
        "**Augmentasi dan load data**"
      ],
      "metadata": {
        "id": "dr_tXZYAjHeW"
      }
    },
    {
      "cell_type": "code",
      "source": [
        "BATCH_SIZE = 64\n",
        "IMG_SIZE = (150, 150)\n",
        "\n",
        "train_datagen = ImageDataGenerator(rescale=1./255.0,\n",
        "                                   rotation_range=15,\n",
        "                                   shear_range=0.2,\n",
        "                                   zoom_range=0.2,\n",
        "                                   horizontal_flip=True,\n",
        "                                   fill_mode='nearest',\n",
        "                                   validation_split=0.2)"
      ],
      "metadata": {
        "id": "FUerN_GdZ-gp"
      },
      "execution_count": 10,
      "outputs": []
    },
    {
      "cell_type": "markdown",
      "source": [
        "**Flow From Directory**"
      ],
      "metadata": {
        "id": "9nfY2tlZjMvt"
      }
    },
    {
      "cell_type": "code",
      "source": [
        "train_generator = train_datagen.flow_from_directory(data_dir,\n",
        "                                                    target_size=IMG_SIZE,\n",
        "                                                    batch_size=BATCH_SIZE,\n",
        "                                                    class_mode='categorical',\n",
        "                                                    subset='training')\n",
        "\n",
        "validation_generator = train_datagen.flow_from_directory(data_dir,\n",
        "                                                         target_size=IMG_SIZE,\n",
        "                                                         batch_size=BATCH_SIZE,\n",
        "                                                         class_mode='categorical',\n",
        "                                                         subset='validation')"
      ],
      "metadata": {
        "id": "IKdKBHcjcFRA",
        "colab": {
          "base_uri": "https://localhost:8080/"
        },
        "outputId": "95bb0d66-df6a-4849-e9de-a155544623f4"
      },
      "execution_count": 11,
      "outputs": [
        {
          "output_type": "stream",
          "name": "stdout",
          "text": [
            "Found 3476 images belonging to 6 classes.\n",
            "Found 866 images belonging to 6 classes.\n"
          ]
        }
      ]
    },
    {
      "cell_type": "markdown",
      "source": [
        "**Model**"
      ],
      "metadata": {
        "id": "tkBJKaPhjZlB"
      }
    },
    {
      "cell_type": "code",
      "source": [
        "base_model = ResNet152V2(weights=\"imagenet\", include_top=False, input_tensor=Input(shape=(150, 150, 3)))\n",
        "\n",
        "\n",
        "for layer in base_model.layers[:-20]:\n",
        "    layer.trainable = True\n",
        "\n",
        "model = Sequential([\n",
        "    base_model,\n",
        "    Conv2D(128, (3, 3), activation='relu'),\n",
        "    MaxPooling2D((2, 2)),\n",
        "    Flatten(),\n",
        "    Dropout(0.4),\n",
        "    Dense(1024, activation='relu'),\n",
        "    Dropout(0.4),\n",
        "    Dense(512, activation='relu'),\n",
        "    Dense(256, activation='relu'),\n",
        "    Dense(6, activation='softmax')\n",
        "])\n",
        "\n",
        "# Display the summary of the model\n",
        "model.summary()"
      ],
      "metadata": {
        "id": "XQ4aLUELepEs",
        "colab": {
          "base_uri": "https://localhost:8080/"
        },
        "outputId": "d6c9f4b4-ffc5-42af-f77c-84484e510872"
      },
      "execution_count": 12,
      "outputs": [
        {
          "output_type": "stream",
          "name": "stdout",
          "text": [
            "Downloading data from https://storage.googleapis.com/tensorflow/keras-applications/resnet/resnet152v2_weights_tf_dim_ordering_tf_kernels_notop.h5\n",
            "234545216/234545216 [==============================] - 2s 0us/step\n",
            "Model: \"sequential\"\n",
            "_________________________________________________________________\n",
            " Layer (type)                Output Shape              Param #   \n",
            "=================================================================\n",
            " resnet152v2 (Functional)    (None, 5, 5, 2048)        58331648  \n",
            "                                                                 \n",
            " conv2d (Conv2D)             (None, 3, 3, 128)         2359424   \n",
            "                                                                 \n",
            " max_pooling2d_3 (MaxPoolin  (None, 1, 1, 128)         0         \n",
            " g2D)                                                            \n",
            "                                                                 \n",
            " flatten (Flatten)           (None, 128)               0         \n",
            "                                                                 \n",
            " dropout (Dropout)           (None, 128)               0         \n",
            "                                                                 \n",
            " dense (Dense)               (None, 1024)              132096    \n",
            "                                                                 \n",
            " dropout_1 (Dropout)         (None, 1024)              0         \n",
            "                                                                 \n",
            " dense_1 (Dense)             (None, 512)               524800    \n",
            "                                                                 \n",
            " dense_2 (Dense)             (None, 256)               131328    \n",
            "                                                                 \n",
            " dense_3 (Dense)             (None, 6)                 1542      \n",
            "                                                                 \n",
            "=================================================================\n",
            "Total params: 61480838 (234.53 MB)\n",
            "Trainable params: 61337094 (233.98 MB)\n",
            "Non-trainable params: 143744 (561.50 KB)\n",
            "_________________________________________________________________\n"
          ]
        }
      ]
    },
    {
      "cell_type": "markdown",
      "source": [
        "**Compile the model**"
      ],
      "metadata": {
        "id": "08rt4fERjhQU"
      }
    },
    {
      "cell_type": "code",
      "source": [
        "model.compile(loss='categorical_crossentropy',\n",
        "              optimizer=tf.optimizers.Adam(learning_rate=0.0001),\n",
        "              metrics=['accuracy'])"
      ],
      "metadata": {
        "id": "3mo90ZKAe-ah"
      },
      "execution_count": 13,
      "outputs": []
    },
    {
      "cell_type": "markdown",
      "source": [
        "**Callback to stop training when both training and validation accuracy reach 85%**"
      ],
      "metadata": {
        "id": "MeyO1EOIjoxS"
      }
    },
    {
      "cell_type": "code",
      "source": [
        "class myCallback(Callback):\n",
        "    def on_epoch_end(self, epoch, logs={}):\n",
        "        if logs.get('accuracy') >= 0.85 and logs.get('val_accuracy') >= 0.85:\n",
        "            print('\\nTraining stopped as both training and validation accuracy reached 85%.')\n",
        "            self.model.stop_training = True\n",
        "\n",
        "callbacks = myCallback()\n",
        "\n",
        "early_stopping = EarlyStopping(monitor='val_accuracy', patience=20, restore_best_weights=True)"
      ],
      "metadata": {
        "id": "blQFkjI7fMJf"
      },
      "execution_count": 14,
      "outputs": []
    },
    {
      "cell_type": "markdown",
      "source": [
        "**Train the model**"
      ],
      "metadata": {
        "id": "Yxm_m_Jnjula"
      }
    },
    {
      "cell_type": "code",
      "source": [
        "history = model.fit(\n",
        "    train_generator,\n",
        "    steps_per_epoch=10,\n",
        "    epochs=100,\n",
        "    validation_data=validation_generator,\n",
        "    validation_steps=10,\n",
        "    verbose=2,\n",
        "    callbacks=[callbacks, early_stopping]\n",
        ")"
      ],
      "metadata": {
        "id": "HcHpxfudfUBQ",
        "colab": {
          "base_uri": "https://localhost:8080/"
        },
        "outputId": "ec066500-6b65-45fb-ef82-15b11cc57c4d"
      },
      "execution_count": null,
      "outputs": [
        {
          "output_type": "stream",
          "name": "stdout",
          "text": [
            "Epoch 1/100\n"
          ]
        }
      ]
    },
    {
      "cell_type": "markdown",
      "source": [
        "**Plot result**"
      ],
      "metadata": {
        "id": "bqcaKgMRuP6R"
      }
    },
    {
      "cell_type": "code",
      "source": [
        "import matplotlib.pyplot as plt\n",
        "plt.style.use('seaborn')"
      ],
      "metadata": {
        "id": "sClV9Kwrt_Kn"
      },
      "execution_count": null,
      "outputs": []
    },
    {
      "cell_type": "code",
      "source": [
        "acc = history.history['accuracy']\n",
        "val_acc = history.history['val_accuracy']\n",
        "\n",
        "loss = history.history['loss']\n",
        "val_loss = history.history['val_loss']\n",
        "\n",
        "plt.figure(figsize=(15, 6))\n",
        "plt.subplot(1, 2, 1)\n",
        "plt.plot(acc, label='Training Accuracy')\n",
        "plt.plot(val_acc, label='Validation Accuracy')\n",
        "plt.legend(loc='lower right')\n",
        "plt.title('Training and Validation Accuracy')\n",
        "plt.xlabel('Epochs')\n",
        "plt.ylabel('Accuracy')\n",
        "\n",
        "plt.subplot(1, 2, 2)\n",
        "plt.plot(loss, label='Training Loss')\n",
        "plt.plot(val_loss, label='Validation Loss')\n",
        "plt.legend(loc='upper right')\n",
        "plt.title('Training and Validation Loss')\n",
        "plt.xlabel('Epochs')\n",
        "plt.ylabel('Loss')\n",
        "plt.show()"
      ],
      "metadata": {
        "id": "PpLdkErTuilH"
      },
      "execution_count": null,
      "outputs": []
    },
    {
      "cell_type": "markdown",
      "source": [
        "**Testing Model**"
      ],
      "metadata": {
        "id": "oeILHGxmwBQO"
      }
    },
    {
      "cell_type": "code",
      "source": [
        "print(train_generator.class_indices)"
      ],
      "metadata": {
        "id": "xwMQctMzv-kb"
      },
      "execution_count": null,
      "outputs": []
    },
    {
      "cell_type": "code",
      "source": [
        "from google.colab import files\n",
        "from tensorflow.keras.preprocessing import image\n",
        "import matplotlib.pyplot as plt\n",
        "import matplotlib.image as mpimg\n",
        "%matplotlib inline\n",
        "\n",
        "uploaded = files.upload()\n",
        "\n",
        "for fn in uploaded.keys():\n",
        "\n",
        "  path = fn\n",
        "  img = image.load_img(path, target_size=(150, 150))\n",
        "\n",
        "  imgplot = plt.imshow(img)\n",
        "  x = image.img_to_array(img)\n",
        "  x = np.expand_dims(x, axis=0)\n",
        "  images = np.vstack([x])\n",
        "\n",
        "  classes = model.predict(images, batch_size=32)\n",
        "  print(fn)\n",
        "  if classes[0][0]==1:\n",
        "    print('brown-glass')\n",
        "  elif classes[0][1]==1:\n",
        "    print('green-glass')\n",
        "  elif classes[0][2]==1:\n",
        "    print('metal')\n",
        "  elif classes[0][3]==1:\n",
        "    print('plastic')\n",
        "  elif classes[0][4]==1:\n",
        "    print('trash')\n",
        "  elif classes[0][5]==1:\n",
        "    print('white-glass')\n",
        "  else:\n",
        "    print('UNKNOWN')"
      ],
      "metadata": {
        "id": "fst1rDJXwVHL"
      },
      "execution_count": null,
      "outputs": []
    },
    {
      "cell_type": "markdown",
      "source": [
        "**Menyimpan model dalam format SavedModel**"
      ],
      "metadata": {
        "id": "PhAaaccVx5B9"
      }
    },
    {
      "cell_type": "code",
      "source": [
        "export_dir = 'saved_model/'\n",
        "tf.saved_model.save(model, export_dir)"
      ],
      "metadata": {
        "id": "4xN0G0l6x17A"
      },
      "execution_count": null,
      "outputs": []
    },
    {
      "cell_type": "markdown",
      "source": [
        "**Convert SavedModel menjadi vegs.tflite**"
      ],
      "metadata": {
        "id": "7BhHV3uwyZDN"
      }
    },
    {
      "cell_type": "code",
      "source": [
        "converter = tf.lite.TFLiteConverter.from_saved_model(export_dir)\n",
        "tflite_model = converter.convert()\n",
        "\n",
        "tflite_model_file = pathlib.Path('vegs.tflite')\n",
        "tflite_model_file.write_bytes(tflite_model)"
      ],
      "metadata": {
        "id": "gWMHxDBUyWEn"
      },
      "execution_count": null,
      "outputs": []
    }
  ]
}